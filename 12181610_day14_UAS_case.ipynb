{
 "cells": [
  {
   "cell_type": "code",
   "execution_count": 1,
   "metadata": {},
   "outputs": [
    {
     "data": {
      "application/vnd.jupyter.widget-view+json": {
       "model_id": "cef88b7f-a718-4f9c-bca4-bcafa25a5e2b",
       "version_major": 2,
       "version_minor": 0
      },
      "method": "display_data"
     },
     "metadata": {},
     "output_type": "display_data"
    }
   ],
   "source": [
    "//Load Library\n",
    "%classpath add jar libs/*"
   ]
  },
  {
   "cell_type": "code",
   "execution_count": 2,
   "metadata": {},
   "outputs": [
    {
     "data": {
      "text/html": [
       "<html></html>"
      ]
     },
     "execution_count": 2,
     "metadata": {},
     "output_type": "execute_result"
    }
   ],
   "source": [
    "%%html"
   ]
  },
  {
   "cell_type": "code",
   "execution_count": 4,
   "metadata": {},
   "outputs": [
    {
     "data": {
      "application/vnd.jupyter.widget-view+json": {
       "model_id": "",
       "version_major": 2,
       "version_minor": 0
      },
      "method": "display_data"
     },
     "metadata": {},
     "output_type": "display_data"
    },
    {
     "data": {
      "application/vnd.jupyter.widget-view+json": {
       "model_id": "1119bd9b-5669-44d8-b344-f59b88519b57",
       "version_major": 2,
       "version_minor": 0
      },
      "method": "display_data"
     },
     "metadata": {},
     "output_type": "display_data"
    }
   ],
   "source": [
    "//Menginstal library dengan maven\n",
    "%%classpath add mvn\n",
    "tech.tablesaw tablesaw-beakerx 0.37.0\n",
    "tech.tablesaw tablesaw-jsplot 0.37.0\n",
    "tech.tablesaw tablesaw-plot 0.24.4"
   ]
  },
  {
   "cell_type": "code",
   "execution_count": 15,
   "metadata": {},
   "outputs": [
    {
     "name": "stdout",
     "output_type": "stream",
     "text": [
      "                                                                       12181610.csv                                                                       \n",
      " _id  |  idx  |             series             |  kode_wilayah  |     wilayah      |  tahun  |  triwulan  |  bulan  |  tanggal  |    nilai    |  target  |\n",
      "----------------------------------------------------------------------------------------------------------------------------------------------------------\n",
      "   1  |    0  |  Luas Lahan yang Dibakar (Ha)  |             1  |       Indonesia  |   2008  |            |         |           |  1857348.3  |          |\n",
      "   2  |    1  |  Luas Lahan yang Dibakar (Ha)  |            11  |            ACEH  |   2008  |            |         |           |    21402.1  |          |\n",
      "   3  |    2  |  Luas Lahan yang Dibakar (Ha)  |            12  |  SUMATERA UTARA  |   2008  |            |         |           |    15946.8  |          |\n",
      "   4  |    3  |  Luas Lahan yang Dibakar (Ha)  |            13  |  SUMATERA BARAT  |   2008  |            |         |           |     5601.2  |          |\n",
      "   5  |    4  |  Luas Lahan yang Dibakar (Ha)  |            14  |            RIAU  |   2008  |            |         |           |    13729.2  |          |\n",
      "        Structure of 12181610.csv         \n",
      " Index  |  Column Name   |  Column Type  |\n",
      "------------------------------------------\n",
      "     0  |           _id  |      INTEGER  |\n",
      "     1  |           idx  |      INTEGER  |\n",
      "     2  |        series  |       STRING  |\n",
      "     3  |  kode_wilayah  |      INTEGER  |\n",
      "     4  |       wilayah  |       STRING  |\n",
      "     5  |         tahun  |      INTEGER  |\n",
      "     6  |      triwulan  |       STRING  |\n",
      "     7  |         bulan  |       STRING  |\n",
      "     8  |       tanggal  |       STRING  |\n",
      "     9  |         nilai  |       DOUBLE  |\n",
      "    10  |        target  |       STRING  |\n",
      "                                                                       12181610.json                                                                        \n",
      " kode_wilayah  |  tahun  |             series             |  nilai  |  _id  |        wilayah         |  tanggal  |  idx  |  bulan  |  triwulan  |  target  |\n",
      "------------------------------------------------------------------------------------------------------------------------------------------------------------\n",
      "         2172  |   2008  |  Luas Lahan yang Dibakar (Ha)  |         |  173  |   KOTA TANJUNG PINANG  |           |  172  |         |            |          |\n",
      "         3101  |   2008  |  Luas Lahan yang Dibakar (Ha)  |         |  174  |      KEPULAUAN SERIBU  |           |  173  |         |            |          |\n",
      "         3171  |   2008  |  Luas Lahan yang Dibakar (Ha)  |         |  175  |  KOTA JAKARTA SELATAN  |           |  174  |         |            |          |\n",
      "         3172  |   2008  |  Luas Lahan yang Dibakar (Ha)  |         |  176  |    KOTA JAKARTA TIMUR  |           |  175  |         |            |          |\n",
      "         3173  |   2008  |  Luas Lahan yang Dibakar (Ha)  |         |  177  |    KOTA JAKARTA PUSAT  |           |  176  |         |            |          |\n",
      "        Structure of 12181610.csv         \n",
      " Index  |  Column Name   |  Column Type  |\n",
      "------------------------------------------\n",
      "     0  |           _id  |      INTEGER  |\n",
      "     1  |           idx  |      INTEGER  |\n",
      "     2  |        series  |       STRING  |\n",
      "     3  |  kode_wilayah  |      INTEGER  |\n",
      "     4  |       wilayah  |       STRING  |\n",
      "     5  |         tahun  |      INTEGER  |\n",
      "     6  |      triwulan  |       STRING  |\n",
      "     7  |         bulan  |       STRING  |\n",
      "     8  |       tanggal  |       STRING  |\n",
      "     9  |         nilai  |       DOUBLE  |\n",
      "    10  |        target  |       STRING  |\n",
      "                                                                       12181610.csv                                                                       \n",
      " _id  |  idx  |             series             |  kode_wilayah  |     wilayah      |  tahun  |  triwulan  |  bulan  |  tanggal  |    nilai    |  target  |\n",
      "----------------------------------------------------------------------------------------------------------------------------------------------------------\n",
      "   1  |    0  |  Luas Lahan yang Dibakar (Ha)  |             1  |       Indonesia  |   2008  |            |         |           |  1857348.3  |          |\n",
      "   2  |    1  |  Luas Lahan yang Dibakar (Ha)  |            11  |            ACEH  |   2008  |            |         |           |    21402.1  |          |\n",
      "   3  |    2  |  Luas Lahan yang Dibakar (Ha)  |            12  |  SUMATERA UTARA  |   2008  |            |         |           |    15946.8  |          |\n",
      "   4  |    3  |  Luas Lahan yang Dibakar (Ha)  |            13  |  SUMATERA BARAT  |   2008  |            |         |           |     5601.2  |          |\n",
      "   5  |    4  |  Luas Lahan yang Dibakar (Ha)  |            14  |            RIAU  |   2008  |            |         |           |    13729.2  |          |\n",
      "                                                                             12181610.csv summary                                                                              \n",
      "    Mean [nilai]     |  Max [nilai]  |  Min [nilai]  |  Sum [nilai]  |  Median [nilai]  |  Count [nilai]  |  Std. Deviation [nilai]  |   Variance [nilai]   |  Range [nilai]  |\n",
      "-------------------------------------------------------------------------------------------------------------------------------------------------------------------------------\n",
      " 18025.386842105272  |    1857348.3  |          0.3  |    5479717.6  |           696.8  |            304  |        143475.317048432  |  20585166602.148083  |        1857348  |  12181610.csv summary   \n",
      " tahun  |  Sum [nilai]  |\n",
      "-------------------------\n",
      "  2008  |    5479717.6  |\n",
      "            12181610.csv summary             \n",
      "          wilayah           |  Sum [nilai]  |\n",
      "---------------------------------------------\n",
      "                 Indonesia  |    1857348.3  |\n",
      "                      ACEH  |      21402.1  |\n",
      "            SUMATERA UTARA  |      15946.8  |\n",
      "            SUMATERA BARAT  |       5601.2  |\n",
      "                      RIAU  |      13729.2  |\n",
      "                     JAMBI  |      11264.7  |\n",
      "          SUMATERA SELATAN  |      39692.5  |\n",
      "                  BENGKULU  |       7676.7  |\n",
      "                   LAMPUNG  |      56679.1  |\n",
      " KEPULAUAN BANGKA BELITUNG  |       7790.3  |\n",
      "                       ...  |          ...  |\n",
      "           KOTA BALIKPAPAN  |         37.6  |\n",
      "            KOTA SAMARINDA  |            0  |\n",
      "              KOTA TARAKAN  |         30.9  |\n",
      "              KOTA BONTANG  |            0  |\n",
      "         BOLAANG MONGONDOW  |       1413.2  |\n",
      "                  MINAHASA  |          154  |\n",
      "         KEPULAUAN SANGIHE  |        151.6  |\n",
      "          KEPULAUAN TALAUD  |        370.3  |\n",
      "          MINAHASA SELATAN  |        175.5  |\n",
      "            MINAHASA UTARA  |       1006.3  |\n"
     ]
    },
    {
     "data": {
      "text/plain": [
       "null"
      ]
     },
     "execution_count": 15,
     "metadata": {},
     "output_type": "execute_result"
    }
   ],
   "source": [
    "import tech.tablesaw.api.*;\n",
    "import tech.tablesaw.io.json.*;\n",
    "import static tech.tablesaw.aggregate.AggregateFunctions.*;\n",
    "import tech.tablesaw.plotly.Plot;\n",
    "import tech.tablesaw.plotly.api.HorizontalBarPlot;\n",
    "import tech.tablesaw.plotly.api.VerticalBarPlot;\n",
    "import tech.tablesaw.plotly.components.Figure;\n",
    "import tech.tablesaw.plotly.components.Layout;\n",
    "import tech.tablesaw.plotly.components.Marker;\n",
    "import tech.tablesaw.plotly.traces.BarTrace;\n",
    "import tech.tablesaw.plotly.traces.Trace;\n",
    "\n",
    "// display Tablesaw tables with BeakerX table display widget\n",
    "tech.tablesaw.beakerx.TablesawDisplayer.register();\n",
    "\n",
    "//init objek csv\n",
    "Table  fieCSV= Table.read().csv(\"datasets/12181610/12181610.csv\");\n",
    "\n",
    "//Menampilkan 5 baris data yang pertama dari data frame fieCSV\n",
    "System.out.println(fieCSV.first(5));\n",
    "\n",
    "//print dataset structure\n",
    "System.out.println(fieCSV.structure());\n",
    "\n",
    "//init objek JsonReader \n",
    "JsonReader reader = new JsonReader();\n",
    "\n",
    "//membaca file 12181610.json\n",
    "JsonReadOptions fileJSON = JsonReadOptions.builder(\"datasets/12181610/12181610.json\").build();\n",
    "\n",
    "//memasukan data fileJSON ke dataframe \n",
    "Table fieJSON = reader.read(fileJSON);\n",
    "\n",
    "//Menampilkan 5 baris data yang pertama dari data frame fieJSON\n",
    "System.out.println(fieJSON.first(5));\n",
    "\n",
    "//print dataset structure\n",
    "System.out.println(fieCSV.structure());\n",
    "\n",
    "//menggabungkan data pada fieCSV dan fieJSON untuk disimpan di dataframe datagabung\n",
    "Table datagabung = fieCSV.append(fieJSON);\n",
    "\n",
    "//menampilkan gabungan data yang ada di dataframe datagabung\n",
    "System.out.println(datagabung.first(5)); \n",
    "\n",
    "//menampilkan summary data yang ada di dataframe datagabung kolom \"grade\"\n",
    "System.out.print(datagabung.summarize(\"nilai\", mean, max, min, sum, median, count, standardDeviation, variance, range).apply());\n",
    "\n",
    "Table summaryPendapatan =  fieCSV.summarize(\"nilai\", sum).by(\"tahun\");;\n",
    "\n",
    "Table sumTotal =  fieCSV.summarize(\"nilai\", sum).by(\"wilayah\");\n",
    "\n",
    "System.out.println(summaryPendapatan.print());\n",
    "\n",
    "System.out.println(sumTotal.print());\n",
    "\n",
    "//Ploting grafik secara vertical \n",
    "Plot.show(\n",
    "        VerticalBarPlot.create(\n",
    "            \"nilai\",\n",
    "            summaryPendapatan,\n",
    "            \"tahun\",\n",
    "            Layout.BarMode.GROUP,\n",
    "            \"Sum [nilai]\"));\n",
    "\n",
    "//Ploting grafik secara horisontal \n",
    "  Plot.show(\n",
    "        HorizontalBarPlot.create(\n",
    "            \"nilai\",\n",
    "            sumTotal,\n",
    "            \"wilayah\",\n",
    "            Layout.BarMode.STACK,\n",
    "            \"Sum [nilai]\"));"
   ]
  },
  {
   "cell_type": "code",
   "execution_count": null,
   "metadata": {},
   "outputs": [],
   "source": []
  }
 ],
 "metadata": {
  "kernelspec": {
   "display_name": "Java",
   "language": "java",
   "name": "java"
  },
  "language_info": {
   "codemirror_mode": "text/x-java",
   "file_extension": ".java",
   "mimetype": "",
   "name": "Java",
   "nbconverter_exporter": "",
   "version": "1.8.0_121"
  },
  "toc": {
   "base_numbering": 1,
   "nav_menu": {},
   "number_sections": false,
   "sideBar": false,
   "skip_h1_title": false,
   "title_cell": "Table of Contents",
   "title_sidebar": "Contents",
   "toc_cell": false,
   "toc_position": {},
   "toc_section_display": false,
   "toc_window_display": false
  }
 },
 "nbformat": 4,
 "nbformat_minor": 2
}
